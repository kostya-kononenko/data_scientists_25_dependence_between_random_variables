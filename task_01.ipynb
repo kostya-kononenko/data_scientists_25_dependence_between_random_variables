{
 "cells": [
  {
   "cell_type": "markdown",
   "source": [
    "| y/x   |   1    |   2   | 3     |  P(y) |\n",
    "|:------|:------ |:------|:------|:------|\n",
    "|  -1   |   0.15 | 0.2   |  0.05 |   0.4 |\n",
    "|   1   |   0.25 | 0.18  |  0.17 |   0.6 |\n",
    "|  P(x) |   0.4  | 0.38  |  0.22 |   1   |"
   ],
   "metadata": {
    "collapsed": false
   }
  },
  {
   "cell_type": "code",
   "execution_count": 2,
   "outputs": [
    {
     "name": "stdout",
     "output_type": "stream",
     "text": [
      "Correlation coefficient between X and Y 0.18\n"
     ]
    }
   ],
   "source": [
    "m_x = 1 * 0.4 + 2 * 0.38 + 3 * 0.22\n",
    "m_y = -1 * 0.4 + 1 * 0.6\n",
    "m_xy = -1 * 1 * 0.15 + -1 * 2 * 0.2 + -1 * 3 * 0.05 + 1 * 1 * 0.25 + 1 * 2 * 0.18 + 1 * 3 * 0.17\n",
    "d_x = 1 ** 2 * 0.4 + 2 ** 2 * 0.38 + 3 ** 2 * 0.22 - m_x ** 2\n",
    "s_x = d_x ** 0.5\n",
    "d_y = -1 ** 2 * 0.4 + 1 ** 2 * 0.6 - m_y ** 2\n",
    "s_y = d_y ** 0.5\n",
    "cov_xy = m_xy - m_x * m_y\n",
    "r_xy = cov_xy / (s_x * s_y)\n",
    "print(f\"Correlation coefficient between X and Y {round(r_xy, 2)}\")"
   ],
   "metadata": {
    "collapsed": false
   }
  }
 ],
 "metadata": {
  "kernelspec": {
   "display_name": "Python 3",
   "language": "python",
   "name": "python3"
  },
  "language_info": {
   "codemirror_mode": {
    "name": "ipython",
    "version": 2
   },
   "file_extension": ".py",
   "mimetype": "text/x-python",
   "name": "python",
   "nbconvert_exporter": "python",
   "pygments_lexer": "ipython2",
   "version": "2.7.6"
  }
 },
 "nbformat": 4,
 "nbformat_minor": 0
}

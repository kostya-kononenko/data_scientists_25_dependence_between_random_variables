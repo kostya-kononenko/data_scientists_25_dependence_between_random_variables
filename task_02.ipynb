{
 "cells": [
  {
   "cell_type": "code",
   "execution_count": 4,
   "metadata": {
    "collapsed": true
   },
   "outputs": [
    {
     "name": "stdout",
     "output_type": "stream",
     "text": [
      "2.7\n",
      "4.0\n",
      "3.72\n",
      "7.9\n",
      "10.86\n",
      "0.06\n",
      "0.00204\n"
     ]
    }
   ],
   "source": [
    "m_x = 10 * 0.1 + 5 * 0.3 + 2 * 0.2 + 1 * 0.3 + (-5) * 0.1\n",
    "print(round(m_x, 2))\n",
    "\n",
    "m_y = 20 * 0.1 + 10 * 0.3 + 2 * 0.2 + (-2) * 0.3 + (-8) * 0.1\n",
    "print(round(m_y, 2))\n",
    "\n",
    "d_x = 10 ** 2 * 0.1 + 5 ** 2 * 0.3 + 2 ** 2 * 0.2 + 1 ** 2 * 0.3 + (-5) ** 2 * 0.1 - m_x ** 2\n",
    "s_x = d_x ** 0.5\n",
    "print(round(s_x, 2))\n",
    "\n",
    "d_y = 20 ** 2 * 0.1 + 10 ** 2 * 0.3 + 2 ** 2 * 0.2 + (-2) ** 2 * 0.3 + (-8) ** 2 * 0.1 - m_y ** 2\n",
    "s_y = d_y ** 0.5\n",
    "print(round(s_y, 2))\n",
    "\n",
    "m_xy = 20 * 10 * 0.01 + 20 * 5 * 0.03 + 20 * 2 * 0.02 + 20 * 1 * 0.03 + 20 * -5 * 0.01 + 10 * 10 * 0.03 + 10 * 5 * 0.09 + 10 * 2 * 0.06 + 10 * 1 * 0.09 + 10 * -5 * 0.03 + 2 * 10 * 0.02 + 2 * 5 * 0.06 + 2 * 2 * 0.04 + 2 * 1 * 0.09 + 2 * -5 * 0.02 + -2 * 10 * 0.03 + -2 * 5 * 0.09 + -2 * 2 * 0.06 + -2 * 1 * 0.09 + -2 * -5 * 0.03 + -8 * 10 * 0.01 + -8 * 5 * 0.03 + -8 * 2 * 0.02 + -8 * 1 * 0.03 + -8 * -5 * 0.01\n",
    "m_xy\n",
    "print(round(m_xy, 2))\n",
    "\n",
    "cov_xy = m_xy - m_x * m_y\n",
    "cov_xy\n",
    "print(round(cov_xy , 2))\n",
    "\n",
    "r_xy = cov_xy / (s_x * s_y)\n",
    "print(round(r_xy, 5))"
   ]
  }
 ],
 "metadata": {
  "kernelspec": {
   "display_name": "Python 3",
   "language": "python",
   "name": "python3"
  },
  "language_info": {
   "codemirror_mode": {
    "name": "ipython",
    "version": 2
   },
   "file_extension": ".py",
   "mimetype": "text/x-python",
   "name": "python",
   "nbconvert_exporter": "python",
   "pygments_lexer": "ipython2",
   "version": "2.7.6"
  }
 },
 "nbformat": 4,
 "nbformat_minor": 0
}
